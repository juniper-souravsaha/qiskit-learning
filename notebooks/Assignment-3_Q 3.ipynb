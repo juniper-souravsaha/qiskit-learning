{
 "cells": [
  {
   "cell_type": "markdown",
   "id": "63f8f940",
   "metadata": {},
   "source": [
    "# Part-C: Programming Implementation (Python / Qiskit)\n"
   ]
  },
  {
   "cell_type": "markdown",
   "id": "02cae77a",
   "metadata": {},
   "source": [
    "## 1.   Write a function that builds a Qiskit oracle circuit for Simon’s function with a secret string s. The oracle acts on two registers (each n qubits): input and output registers. It implements\n",
    "```markdown\n",
    "                    Uf(|x⟩|y⟩) = |x⟩|y ⊕f(x)⟩\n",
    "```\n",
    "## where f(x)=f(z) ↔x = z ⊕s\n"
   ]
  },
  {
   "cell_type": "code",
   "execution_count": 1,
   "id": "9cdead65",
   "metadata": {},
   "outputs": [],
   "source": [
    "import numpy as np\n",
    "from qiskit import QuantumCircuit, transpile\n",
    "from qiskit_aer import AerSimulator\n",
    "from qiskit.visualization import plot_histogram\n",
    "from qiskit.quantum_info import Statevector\n",
    "import matplotlib.pyplot as plt"
   ]
  },
  {
   "cell_type": "code",
   "execution_count": 2,
   "id": "e70f6697",
   "metadata": {},
   "outputs": [],
   "source": [
    "def simon_oracle(n=3, s='101'):\n",
    "    s = s[::-1]\n",
    "    qc_o = QuantumCircuit(2 * n)\n",
    "\n",
    "    for i in range(n):\n",
    "        qc_o.cx(i, n + i)\n",
    "\n",
    "    if '1' not in s:\n",
    "        return qc_o\n",
    "    i = s.find('1')\n",
    "    for j in range(n):\n",
    "        if s[j] == '1':\n",
    "            qc_o.cx(i, (j)+n)\n",
    "    \n",
    "    return qc_o"
   ]
  },
  {
   "cell_type": "markdown",
   "id": "df2ad9a4",
   "metadata": {},
   "source": [
    "## 2.   Use the oracle from question 1 to implement the quantum side of a single run of Simon’s algorithm(steps 1-5) in qiskit for n qubits and print the measured bitstring.\n"
   ]
  },
  {
   "cell_type": "code",
   "execution_count": null,
   "id": "dc996bf2",
   "metadata": {},
   "outputs": [],
   "source": [
    "def simons_algorithm(n=3, s='101'):\n",
    "    qc = QuantumCircuit(2 * n, n)\n",
    "\n",
    "    # Step 1: Hadamard on input register\n",
    "    for i in range(n):\n",
    "        qc.h(i)\n",
    "\n",
    "    # Step 2: Apply oracle\n",
    "    # Step 3: Measure the Second Register (not sure, why needed?)\n",
    "    oracle = simon_oracle(n, s)\n",
    "    qc.compose(oracle, inplace=True)\n",
    "\n",
    "    # Step 4: Hadamard again on input register\n",
    "    for i in range(n):\n",
    "        qc.h(i)\n",
    "\n",
    "    # Step 5: Measurement of input register\n",
    "    for i in range(n):\n",
    "        qc.measure(i, i)\n",
    "\n",
    "    return qc"
   ]
  },
  {
   "cell_type": "code",
   "execution_count": 4,
   "id": "e726a0ab",
   "metadata": {},
   "outputs": [
    {
     "name": "stdout",
     "output_type": "stream",
     "text": [
      "Measurement Results:\n",
      "111: 280.000\n",
      "110: 261.000\n",
      "000: 248.000\n",
      "001: 235.000\n"
     ]
    }
   ],
   "source": [
    "n = 3\n",
    "s = '110'\n",
    "qc = simons_algorithm(n, s)\n",
    "# qc.draw('mpl')\n",
    "\n",
    "# Run the circuit\n",
    "sim = AerSimulator()\n",
    "tqc = transpile(qc, sim)\n",
    "result = sim.run(tqc, shots=1024).result()\n",
    "counts = result.get_counts()\n",
    "print(\"Measurement Results:\")\n",
    "for bitstring, prob in counts.items():\n",
    "    print(f\"{bitstring}: {prob:.3f}\")\n"
   ]
  },
  {
   "cell_type": "markdown",
   "id": "1f43d558",
   "metadata": {},
   "source": [
    "## 3.  [OPTIONAL] Write code to run simon’s algorithm in full. Note: Algorithmically solving a set of linear equations is not easy, you can try to come up with your own algorithm or look into using the sympy or galois packages. This problem is optional as this is not a linear algebra course!"
   ]
  },
  {
   "cell_type": "code",
   "execution_count": 5,
   "id": "084e4970",
   "metadata": {},
   "outputs": [],
   "source": [
    "def solve_linear_mod2(equations: list[str]) -> str:\n",
    "    n = len(equations[0])\n",
    "    m = len(equations)\n",
    "    A = np.array([[int(bit) for bit in eq] for eq in equations], dtype=np.uint8)\n",
    "\n",
    "    row = 0\n",
    "    for col in range(n):\n",
    "        pivot = None\n",
    "        for r in range(row, m):\n",
    "            if A[r][col] == 1:\n",
    "                pivot = r\n",
    "                break\n",
    "        if pivot is None:\n",
    "            continue\n",
    "        A[[row, pivot]] = A[[pivot, row]]\n",
    "        for r in range(m):\n",
    "            if r != row and A[r][col] == 1:\n",
    "                A[r] ^= A[row]\n",
    "        row += 1\n",
    "\n",
    "    # Try non-zero solution for s\n",
    "    for guess in range(1, 2**n):\n",
    "        s = np.array([(guess >> i) & 1 for i in reversed(range(n))], dtype=np.uint8)\n",
    "        if np.all((A @ s) % 2 == 0):\n",
    "            return ''.join(str(b) for b in s)\n",
    "\n",
    "    return \"No solution found\""
   ]
  },
  {
   "cell_type": "code",
   "execution_count": 6,
   "id": "63d2bf27",
   "metadata": {},
   "outputs": [
    {
     "name": "stdout",
     "output_type": "stream",
     "text": [
      "\n",
      "Equations from measurements: ['111', '110', '001']\n",
      "\n",
      "Recovered hidden string s: 110\n"
     ]
    }
   ],
   "source": [
    "equations = [k for k in counts.keys() if k != '0' * len(s)]\n",
    "print(f\"\\nEquations from measurements: {equations}\")\n",
    "s_found = solve_linear_mod2(equations)\n",
    "print(f\"\\nRecovered hidden string s: {s_found}\")"
   ]
  }
 ],
 "metadata": {
  "kernelspec": {
   "display_name": "py312_env",
   "language": "python",
   "name": "python3"
  },
  "language_info": {
   "codemirror_mode": {
    "name": "ipython",
    "version": 3
   },
   "file_extension": ".py",
   "mimetype": "text/x-python",
   "name": "python",
   "nbconvert_exporter": "python",
   "pygments_lexer": "ipython3",
   "version": "3.12.9"
  }
 },
 "nbformat": 4,
 "nbformat_minor": 5
}
