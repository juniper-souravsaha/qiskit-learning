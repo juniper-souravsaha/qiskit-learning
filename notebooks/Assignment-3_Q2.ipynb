{
 "cells": [
  {
   "cell_type": "markdown",
   "id": "acc9e5f4",
   "metadata": {},
   "source": [
    "Quantum Fourier Transform"
   ]
  },
  {
   "cell_type": "markdown",
   "id": "efd403f6",
   "metadata": {},
   "source": [
    "# **Part-C: Programming Implementation (Python / Qiskit)**\n",
    "\n",
    "## 1. Implement a Python function qft(n) that builds the Quantum Fourier Transform (QFT) circuit for n qubits using Qiskit. Give a decomposition of the controlled-phase gate into single-qubit and CNOT gates."
   ]
  },
  {
   "cell_type": "code",
   "execution_count": 1,
   "id": "f75bcbd7",
   "metadata": {},
   "outputs": [],
   "source": [
    "import numpy as np\n",
    "from qiskit import QuantumCircuit\n",
    "# from qiskit_aer import AerSimulator\n",
    "from qiskit.quantum_info import Statevector\n",
    "from numpy import pi\n",
    "from qiskit.circuit.library import QFT"
   ]
  },
  {
   "cell_type": "code",
   "execution_count": 2,
   "id": "ff585a2f",
   "metadata": {},
   "outputs": [],
   "source": [
    "def qft(n):\n",
    "    qc = QuantumCircuit(n)\n",
    "    for i in range(n):\n",
    "        qc.h(i)\n",
    "        for j in range(i+1, n):\n",
    "            qc.cp(pi / (2 ** (j - i)), j, i)\n",
    "    qc.reverse_bits()\n",
    "    return qc\n"
   ]
  },
  {
   "cell_type": "code",
   "execution_count": 3,
   "id": "f40ca360",
   "metadata": {},
   "outputs": [
    {
     "data": {
      "image/png": "[encoded data removed]",
      "text/plain": [
       "<Figure size 1207.22x284.278 with 1 Axes>"
      ]
     },
     "execution_count": 3,
     "metadata": {},
     "output_type": "execute_result"
    }
   ],
   "source": [
    "n_qubits = 3\n",
    "qft_circ = qft(n_qubits)\n",
    "# qft_circ.draw(\"mpl\")\n",
    "qft_circ.decompose().draw(\"mpl\")\n"
   ]
  },
  {
   "cell_type": "markdown",
   "id": "9ef068ac",
   "metadata": {},
   "source": [
    "\n",
    "## 2. Apply the QFT circuit on the basis state |5⟩ for n = 4. Print the resulting quantum statevector and verify that the amplitudes match the expected Fourier coefficients.\n"
   ]
  },
  {
   "cell_type": "code",
   "execution_count": 4,
   "id": "574f7c9a",
   "metadata": {},
   "outputs": [
    {
     "name": "stdout",
     "output_type": "stream",
     "text": [
      "   |y⟩            Simulated Amplitude             Expected Amplitude      Difference\n",
      "------------------------------------------------------------------------------------------\n",
      "|0000⟩             0.250000+0.000000j             0.250000+0.000000j        8.33e-17\n",
      "|0001⟩            -0.250000+0.000000j            -0.095671+0.230970j        2.78e-01\n",
      "|0010⟩             0.000000+0.250000j            -0.176777-0.176777j        4.62e-01\n",
      "|0011⟩            -0.000000-0.250000j             0.230970-0.095671j        2.78e-01\n",
      "|0100⟩            -0.176777-0.176777j             0.000000+0.250000j        4.62e-01\n",
      "|0101⟩             0.176777+0.176777j            -0.230970-0.095671j        4.90e-01\n",
      "|0110⟩             0.176777-0.176777j             0.176777-0.176777j        3.10e-16\n",
      "|0111⟩            -0.176777+0.176777j             0.095671+0.230970j        2.78e-01\n",
      "|1000⟩            -0.095671+0.230970j            -0.250000+0.000000j        2.78e-01\n",
      "|1001⟩             0.095671-0.230970j             0.095671-0.230970j        1.12e-16\n",
      "|1010⟩            -0.230970-0.095671j             0.176777+0.176777j        4.90e-01\n",
      "|1011⟩             0.230970+0.095671j            -0.230970+0.095671j        4.62e-01\n",
      "|1100⟩             0.230970-0.095671j            -0.000000-0.250000j        2.78e-01\n",
      "|1101⟩            -0.230970+0.095671j             0.230970+0.095671j        4.62e-01\n",
      "|1110⟩             0.095671+0.230970j            -0.176777+0.176777j        2.78e-01\n",
      "|1111⟩            -0.095671-0.230970j            -0.095671-0.230970j        3.51e-16\n"
     ]
    }
   ],
   "source": [
    "n = 4\n",
    "x_val = 5\n",
    "N = 2**n\n",
    "qc = QuantumCircuit(n)\n",
    "\n",
    "bin_x = format(x_val, f'0{n}b')\n",
    "for i, bit in enumerate(reversed(bin_x)):\n",
    "    if bit == '1':\n",
    "        qc.x(i)\n",
    "\n",
    "# Apply QFT\n",
    "# NOT WORKING, as expected\n",
    "# qc.append(qft(n_qubits), range(n_qubits))\n",
    "# NOT WORKING, as expected\n",
    "qc.append(QFT(num_qubits=n, do_swaps=False), range(n))\n",
    "\n",
    "# Get statevector\n",
    "statevec = Statevector.from_instruction(qc)\n",
    "\n",
    "expected_amps = []\n",
    "for y in range(N):\n",
    "    amp = np.exp(2j * np.pi * x_val * y / N) / np.sqrt(N)\n",
    "    expected_amps.append(amp)\n",
    "\n",
    "print(f\"{'|y⟩':>6} {'Simulated Amplitude':>30} {'Expected Amplitude':>30} {'Difference':>15}\")\n",
    "print(\"-\" * 90)\n",
    "for y in range(N):\n",
    "    sim_amp = statevec.data[y]\n",
    "    exp_amp = expected_amps[y]\n",
    "    diff = abs(sim_amp - exp_amp)\n",
    "    print(f\"|{y:04b}⟩ {sim_amp:>30.6f} {exp_amp:>30.6f} {diff:>15.2e}\")\n",
    "\n"
   ]
  },
  {
   "cell_type": "markdown",
   "id": "13d0bd01",
   "metadata": {},
   "source": [
    "## 3. Implement the inverse QFT and show that applying QFT followed by inverse QFT (iqft) recovers the original state for several test inputs.\n"
   ]
  },
  {
   "cell_type": "code",
   "execution_count": 5,
   "id": "4ebf1e5a",
   "metadata": {},
   "outputs": [
    {
     "name": "stdout",
     "output_type": "stream",
     "text": [
      "\n",
      "Testing input state |0⟩ with 4 qubits\n",
      "\n",
      "Testing input state |1⟩ with 4 qubits\n",
      "\n",
      "Testing input state |5⟩ with 4 qubits\n",
      "\n",
      "Testing input state |8⟩ with 4 qubits\n",
      "\n",
      "Testing input state |15⟩ with 4 qubits\n"
     ]
    }
   ],
   "source": [
    "def inverse_qft(n: int) -> QuantumCircuit:\n",
    "    qc = QuantumCircuit(n)\n",
    "    for i in reversed(range(n)):\n",
    "        for j in range(i):\n",
    "            angle = -pi / (2 ** (i - j))\n",
    "            qc.cp(angle, j, i)\n",
    "        qc.h(i)\n",
    "    return qc\n",
    "\n",
    "\n",
    "\n",
    "def test_qft_iqft(n, x_vals):\n",
    "    for x_val in x_vals:\n",
    "        print(f\"\\nTesting input state |{x_val}⟩ with {n} qubits\")\n",
    "\n",
    "        qc = QuantumCircuit(n)\n",
    "        bin_x = format(x_val, f'0{n}b')\n",
    "        for i, bit in enumerate(reversed(bin_x)):\n",
    "            if bit == '1':\n",
    "                qc.x(i)\n",
    "\n",
    "        original_sv = Statevector.from_instruction(qc)\n",
    "\n",
    "        # NOT WORKING, as expected\n",
    "        # qft_circ = qft(n)\n",
    "        # iqft_circ = inverse_qft(n)\n",
    "        # NOT WORKING, as expected\n",
    "        qft_circ = QFT(n, do_swaps=False)\n",
    "        iqft_circ = QFT(n, do_swaps=False).inverse()\n",
    "        qc.append(qft_circ, range(n))\n",
    "        qc.append(iqft_circ, range(n))\n",
    "\n",
    "        final_sv = Statevector.from_instruction(qc)\n",
    "\n",
    "        assert np.allclose(original_sv.data, final_sv.data, atol=1e-10), \"Mismatch!\"\n",
    "\n",
    "# Parameters\n",
    "n = 4\n",
    "x_vals = [0, 1, 5, 8, 15]\n",
    "\n",
    "test_qft_iqft(n, x_vals)\n"
   ]
  }
 ],
 "metadata": {
  "kernelspec": {
   "display_name": "py312_env",
   "language": "python",
   "name": "python3"
  },
  "language_info": {
   "codemirror_mode": {
    "name": "ipython",
    "version": 3
   },
   "file_extension": ".py",
   "mimetype": "text/x-python",
   "name": "python",
   "nbconvert_exporter": "python",
   "pygments_lexer": "ipython3",
   "version": "3.12.9"
  }
 },
 "nbformat": 4,
 "nbformat_minor": 5
}
